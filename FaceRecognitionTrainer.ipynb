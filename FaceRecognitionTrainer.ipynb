{
 "cells": [
  {
   "cell_type": "markdown",
   "id": "0506670c",
   "metadata": {},
   "source": [
    "# Facial Recognition TRAINER"
   ]
  },
  {
   "cell_type": "code",
   "execution_count": null,
   "id": "e96dede6",
   "metadata": {},
   "outputs": [],
   "source": [
    "# %pip install opencv-python \n",
    "# %pip install numpy \n",
    "# %pip install Pillow\n",
    "# %pip install opencv-contrib-python"
   ]
  },
  {
   "cell_type": "code",
   "execution_count": null,
   "id": "45b0c739",
   "metadata": {},
   "outputs": [],
   "source": [
    "import os\n",
    "import cv2\n",
    "import numpy as np\n",
    "import pickle\n",
    "from PIL import Image\n"
   ]
  },
  {
   "cell_type": "markdown",
   "id": "81296f16",
   "metadata": {},
   "source": [
    "### Sets up directory path for accessing the BLANK folder"
   ]
  },
  {
   "cell_type": "code",
   "execution_count": null,
   "id": "bce31054",
   "metadata": {},
   "outputs": [],
   "source": [
    "base_dir = os.path.dirname(os.path.abspath(\"__file__\"))\n",
    "print(base_dir)\n",
    "image_dir = os.path.join(base_dir, \"imported_faces\")\n",
    "print(image_dir)"
   ]
  },
  {
   "cell_type": "code",
   "execution_count": null,
   "id": "6d4cfe60",
   "metadata": {},
   "outputs": [],
   "source": [
    "face_cascade = cv2.CascadeClassifier(cv2.data.haarcascades + 'haarcascade_frontalface_default.xml') # Face classifier\n",
    "recognizer = cv2.face.LBPHFaceRecognizer_create() # Face recognizer\n",
    "current_id = 0\n",
    "label_ids = {} # dictionary containing all the people that have been identified\n",
    "y_labels = [] # list of numbers related to the labels\n",
    "x_train = [] # picture values"
   ]
  },
  {
   "cell_type": "code",
   "execution_count": null,
   "id": "b545a867",
   "metadata": {},
   "outputs": [],
   "source": [
    "for root, dirs, files in os.walk(image_dir):\n",
    "    for file in files:\n",
    "        if file.endswith(\"jpg\") or file.endswith(\"png\") or file.endswith(\"jpeg\"):\n",
    "            path = os.path.join(root, file)\n",
    "            label = os.path.basename(path).replace(\".jpg\", \"\").replace(\".png\", \"\").replace(\" \", \"-\").lower()\n",
    "            print(label, path)\n",
    "            \n",
    "            if label not in label_ids:\n",
    "                label_ids[label] = current_id\n",
    "                current_id += 1\n",
    "            id_now = label_ids[label]\n",
    "            print(label_ids)\n",
    "\n",
    "            pil_image = Image.open(path).convert(\"L\") # open image and convert it to grayscale\n",
    "            image_array = np.array(pil_image, \"uint8\")\n",
    "            print(image_array)\n",
    "\n",
    "            # Detect faces in the image\n",
    "            faces = face_cascade.detectMultiScale(\n",
    "                image_array,\n",
    "                scaleFactor = 1.21,\n",
    "                minNeighbors = 4,\n",
    "                minSize = (20, 20),\n",
    "                flags = cv2.CASCADE_SCALE_IMAGE\n",
    "            )\n",
    "\n",
    "            # Draw a rectangle around the faces\n",
    "            for (x, y, w, h) in faces:\n",
    "                roi = image_array[y:y+h, x:x+w]\n",
    "                x_train.append(roi) # this is our training data\n",
    "                y_labels.append(id_now)\n",
    "\n",
    "# save all labels as a \"labels.pickle\" file (in the same directory)\n",
    "with open(\"labels.pickle\", \"wb\") as file: # \"wb\" stands for \"writing bytes\"\n",
    "    pickle.dump(label_ids, file)\n",
    "\n",
    "recognizer.train(x_train, np.array(y_labels))\n",
    "recognizer.save(\"trainer.yml\")\n",
    "print(\"DONE!\")"
   ]
  },
  {
   "cell_type": "code",
   "execution_count": null,
   "id": "8b14b248",
   "metadata": {},
   "outputs": [],
   "source": [
    "for i in range(5):\n",
    "    cap = cv2.VideoCapture(i)\n",
    "    if cap.isOpened():\n",
    "        print(f\"Camera {i} is available\")\n",
    "        cap.release()\n"
   ]
  },
  {
   "cell_type": "code",
   "execution_count": null,
   "id": "641bd4e0",
   "metadata": {},
   "outputs": [],
   "source": [
    "import cv2\n",
    "import pickle\n",
    "\n",
    "# Load trained recognizer\n",
    "recognizer = cv2.face.LBPHFaceRecognizer_create()\n",
    "recognizer.read(\"trainer.yml\")\n",
    "\n",
    "# Load label mapping\n",
    "with open(\"labels.pickle\", \"rb\") as f:\n",
    "    original_labels = pickle.load(f)\n",
    "    labels = {v: k for k, v in original_labels.items()}\n",
    "\n",
    "# Load an image from your training data\n",
    "img_path = \"imported_faces/IMG_8814 2.jpeg\"  # <- Replace with actual path\n",
    "image = cv2.imread(img_path, cv2.IMREAD_GRAYSCALE)\n",
    "\n",
    "# Optional: resize to match training size\n",
    "image = cv2.resize(image, (100, 100))  # Only if you resized during training\n",
    "\n",
    "# Recognize face\n",
    "id_now, confidence = recognizer.predict(image)\n",
    "\n",
    "# Print results\n",
    "print(\"Predicted label:\", labels.get(id_now, \"Unknown\"))\n",
    "print(\"Confidence:\", confidence)\n"
   ]
  }
 ],
 "metadata": {
  "kernelspec": {
   "display_name": "Python 3",
   "language": "python",
   "name": "python3"
  },
  "language_info": {
   "codemirror_mode": {
    "name": "ipython",
    "version": 3
   },
   "file_extension": ".py",
   "mimetype": "text/x-python",
   "name": "python",
   "nbconvert_exporter": "python",
   "pygments_lexer": "ipython3",
   "version": "3.10.17"
  }
 },
 "nbformat": 4,
 "nbformat_minor": 5
}
